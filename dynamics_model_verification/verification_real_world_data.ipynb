{
 "cells": [
  {
   "cell_type": "code",
   "execution_count": 1,
   "id": "0844abcd",
   "metadata": {},
   "outputs": [
    {
     "data": {
      "text/plain": [
       "g(\n",
       "  (fc1): Linear(in_features=2, out_features=16, bias=True)\n",
       "  (fc2): Linear(in_features=16, out_features=8, bias=True)\n",
       "  (fc3): Linear(in_features=8, out_features=4, bias=True)\n",
       "  (relu): ReLU()\n",
       ")"
      ]
     },
     "execution_count": 1,
     "metadata": {},
     "output_type": "execute_result"
    }
   ],
   "source": [
    "import torch\n",
    "import pickle\n",
    "import os\n",
    "import pathlib as Path\n",
    "import sys\n",
    "import pandas as pd\n",
    "import numpy as np\n",
    "import matplotlib.pyplot as plt\n",
    "import ipywidgets\n",
    "from IPython.display import display\n",
    "\n",
    "current_path = os.getcwd()\n",
    "parent_dir = os.path.dirname(current_path)\n",
    "sys.path.append(parent_dir)\n",
    "path_dynamics_model_weights = os.path.join(parent_dir, \"old_files\", \"dynamics_model_weights_encoder\")\n",
    "import old_files.dynamics_learning_encoder.mlmodel_encoder as mlmodel\n",
    "device = torch.device('cuda:1')\n",
    "\n",
    "dynamics_model = mlmodel.load_model(\"run_4_encoder_increased_wind30.pth\", path_dynamics_model_weights)\n",
    "dynamics_model.mu.to(device)\n",
    "dynamics_model.f.to(device)\n",
    "dynamics_model.g.to(device)"
   ]
  },
  {
   "cell_type": "code",
   "execution_count": null,
   "id": "1effe5c5",
   "metadata": {},
   "outputs": [],
   "source": [
    "class RealWorldDataset():\n",
    "    def __init__(self, data_path):\n",
    "        self.data = pd.read_csv(data_path)\n",
    "        self.trajectories = set(self.data['traj'].values)\n",
    "        self.num_trajectories = len(self.trajectories)\n",
    "        print(\"path :\", data_path, \"Number of trajectories: \", self.num_trajectories)\n",
    "        self.trajectory_data = {}\n",
    "        self.a_g = 9.81  # gravity\n",
    "        self.dt = 0.01  # time step between measurements\n",
    "\n",
    "        for traj in self.trajectories:\n",
    "            traj_data = self.data[self.data['traj'] == traj]\n",
    "            self.trajectory_data[traj] = {}\n",
    "\n",
    "            for header in self.data.columns:\n",
    "                self.trajectory_data[traj][header] = traj_data[header].values\n",
    "        \n",
    "        for traj in self.trajectories:\n",
    "            self.trajectory_data[traj]['ax_nominal'], self.trajectory_data[traj]['ay_nominal'] = self.nominal_inference(\n",
    "                self.trajectory_data[traj]['roll'], self.trajectory_data[traj]['pitch']\n",
    "            )\n",
    "            self.trajectory_data[traj]['ax_error'] = self.trajectory_data[traj]['ax'] - self.trajectory_data[traj]['ax_nominal']\n",
    "            self.trajectory_data[traj]['ay_error'] = self.trajectory_data[traj]['ay'] - self.trajectory_data[traj]['ay_nominal']\n",
    "        \n",
    "        for traj in self.trajectories:\n",
    "            self.trajectory_data[traj]['ax_NN'], self.trajectory_data[traj]['ay_NN'] = self.NN_dynamics_inference_zero_wind(\n",
    "                self.trajectory_data[traj]['vx'], self.trajectory_data[traj]['vy'],\n",
    "                self.trajectory_data[traj]['roll'], self.trajectory_data[traj]['pitch']\n",
    "            )\n",
    "            self.trajectory_data[traj]['ax_NN_error'] = self.trajectory_data[traj]['ax'] - self.trajectory_data[traj]['ax_NN']\n",
    "            self.trajectory_data[traj]['ay_NN_error'] = self.trajectory_data[traj]['ay'] - self.trajectory_data[traj]['ay_NN']\n",
    "        \n",
    "        ## rollout the nominal model for each trajectory\n",
    "        for traj in self.trajectories:\n",
    "            initial_state = (self.trajectory_data[traj]['px'][0], self.trajectory_data[traj]['py'][0],\n",
    "                             self.trajectory_data[traj]['vx'][0], self.trajectory_data[traj]['vy'][0])\n",
    "            acceleration = np.stack((self.trajectory_data[traj]['ax_nominal'], self.trajectory_data[traj]['ay_nominal']), axis=1)\n",
    "            trajectory_rollout = self.rollout_nominal_model(initial_state, acceleration)\n",
    "            self.trajectory_data[traj]['px_rollout_nominal'] = trajectory_rollout[:, 0]\n",
    "            self.trajectory_data[traj]['py_rollout_nominal'] = trajectory_rollout[:, 1]\n",
    "            self.trajectory_data[traj]['vx_rollout_nominal'] = trajectory_rollout[:, 2]\n",
    "            self.trajectory_data[traj]['vy_rollout_nominal'] = trajectory_rollout[:, 3]\n",
    "\n",
    "        ## rollout the NN model for each trajectory\n",
    "        for traj in self.trajectories:\n",
    "            initial_state = (self.trajectory_data[traj]['px'][0], self.trajectory_data[traj]['py'][0],\n",
    "                             self.trajectory_data[traj]['vx'][0], self.trajectory_data[traj]['vy'][0])\n",
    "            control = np.stack((self.trajectory_data[traj]['roll'], self.trajectory_data[traj]['pitch']), axis=1)\n",
    "            trajectory_rollout = self.rollout_NN_model_zero_wind(initial_state, control)\n",
    "            self.trajectory_data[traj]['px_rollout_NN'] = trajectory_rollout[:, 0]\n",
    "            self.trajectory_data[traj]['py_rollout_NN'] = trajectory_rollout[:, 1]\n",
    "            self.trajectory_data[traj]['vx_rollout_NN'] = trajectory_rollout[:, 2]\n",
    "            self.trajectory_data[traj]['vy_rollout_NN'] = trajectory_rollout[:, 3]\n",
    "\n",
    "    def nominal_inference(self, roll, pitch):\n",
    "        a_x_nominal = -self.a_g * np.tan(pitch)\n",
    "        a_y_nominal = -self.a_g * np.tan(roll)\n",
    "        return a_x_nominal, a_y_nominal \n",
    "\n",
    "    def NN_dynamics_inference_zero_wind(self, v_x, v_y, roll, pitch):\n",
    "        v_x = torch.tensor(v_x, dtype=torch.float32).to(device)           # []\n",
    "        v_y = -torch.tensor(v_y, dtype=torch.float32).to(device)\n",
    "        velocity = torch.stack((v_x, v_y), dim=1)  # [N, 2]\n",
    "        roll = torch.tensor(-roll, dtype=torch.float32).to(device)\n",
    "        pitch = torch.tensor(-pitch, dtype=torch.float32).to(device)\n",
    "        control = torch.stack((pitch, roll), dim=1)  # [N, 2]\n",
    "\n",
    "         # NN prediction with zero wind\n",
    "        with torch.no_grad():\n",
    "            wind_zero = torch.tensor([[0.0, 0.0]], dtype=torch.float32).to(device)  # [1, 2]\n",
    "            wind_encoding_zero = dynamics_model.mu(wind_zero)  # [1, latent_dim]\n",
    "            wind_encoding_zero = wind_encoding_zero.repeat(velocity.shape[0], 1)\n",
    "            output_NN = dynamics_model.f(torch.cat([velocity, wind_encoding_zero], dim=1)) + \\\n",
    "                        torch.matmul(dynamics_model.g(velocity).reshape(-1, 2, 2), control.unsqueeze(-1)).squeeze(-1)  # [N, 2]\n",
    "            a_x_NN = output_NN[:, 0].cpu().numpy()\n",
    "            a_y_NN = -output_NN[:, 1].cpu().numpy()\n",
    "        return a_x_NN, a_y_NN\n",
    "    \n",
    "    def rollout_nominal_model(self, initial_state, acceleration):\n",
    "        \"\"\"\n",
    "        initial_state: (p_x, p_y, v_x, v_y)\n",
    "        acceleration : [N, 2] (a_x, a_y)\n",
    "        \"\"\"\n",
    "        p_x, p_y, v_x, v_y = initial_state\n",
    "        dt = self.dt\n",
    "        trajectory = []\n",
    "\n",
    "        for a_x, a_y in acceleration:\n",
    "            v_x += a_x * dt\n",
    "            v_y += a_y * dt\n",
    "\n",
    "            p_x += v_x * dt\n",
    "            p_y += v_y * dt\n",
    "\n",
    "            trajectory.append((p_x, p_y, v_x, v_y))\n",
    "\n",
    "        return np.array(trajectory)\n",
    "\n",
    "    def rollout_NN_model_zero_wind(self, initial_state, control):\n",
    "        \"\"\"\n",
    "        initial_state: (p_x, p_y, v_x, v_y)\n",
    "        control : [N, 2] (pitch, roll)\n",
    "        \"\"\"\n",
    "        p_x, p_y, v_x, v_y = initial_state\n",
    "        dt = self.dt\n",
    "        trajectory = []\n",
    "\n",
    "        for roll, pitch in control:\n",
    "            # NN prediction with zero wind\n",
    "            a_x_NN, a_y_NN = self.NN_dynamics_inference_zero_wind(\n",
    "                np.array([v_x]), np.array([v_y]),\n",
    "                np.array([roll]), np.array([pitch])\n",
    "            )\n",
    "            a_x_NN = a_x_NN[0]\n",
    "            a_y_NN = a_y_NN[0]\n",
    "\n",
    "            # Update velocity\n",
    "            v_x += a_x_NN * dt\n",
    "            v_y += a_y_NN * dt\n",
    "\n",
    "            # Update position\n",
    "            p_x += v_x * dt\n",
    "            p_y += v_y * dt\n",
    "\n",
    "            trajectory.append((p_x, p_y, v_x, v_y))\n",
    "\n",
    "        return np.array(trajectory)\n"
   ]
  },
  {
   "cell_type": "code",
   "execution_count": 3,
   "id": "35cbc49d",
   "metadata": {},
   "outputs": [
    {
     "name": "stdout",
     "output_type": "stream",
     "text": [
      "path : ../real_world_data/flight_data_no_wind.csv Number of trajectories:  38\n",
      "path : ../real_world_data/flight_data_wind.csv Number of trajectories:  34\n"
     ]
    }
   ],
   "source": [
    "data_no_wind = RealWorldDataset('../real_world_data/flight_data_no_wind.csv')\n",
    "data_wind = RealWorldDataset('../real_world_data/flight_data_wind.csv')"
   ]
  },
  {
   "cell_type": "code",
   "execution_count": 4,
   "id": "d179cf92",
   "metadata": {},
   "outputs": [
    {
     "name": "stdout",
     "output_type": "stream",
     "text": [
      "Mapped 38 trajectories to indices 0..37\n",
      "Example index->traj id (first 10): [(0, np.int64(0)), (1, np.int64(1)), (2, np.int64(2)), (3, np.int64(3)), (4, np.int64(4)), (5, np.int64(5)), (6, np.int64(6)), (7, np.int64(7)), (8, np.int64(8)), (9, np.int64(9))]\n"
     ]
    },
    {
     "data": {
      "application/vnd.jupyter.widget-view+json": {
       "model_id": "3523fe8fb4d44b9893fe720436a037e8",
       "version_major": 2,
       "version_minor": 0
      },
      "text/plain": [
       "IntSlider(value=3, continuous_update=False, description='Trajectory Index:', max=37)"
      ]
     },
     "metadata": {},
     "output_type": "display_data"
    },
    {
     "data": {
      "application/vnd.jupyter.widget-view+json": {
       "model_id": "32925696b8d34ccea79fc6abe52371ba",
       "version_major": 2,
       "version_minor": 0
      },
      "text/plain": [
       "Output()"
      ]
     },
     "metadata": {},
     "output_type": "display_data"
    }
   ],
   "source": [
    "# Display the roll, pitch, yaw of a traj in degrees\n",
    "traj_ids = sorted(list(data_no_wind.trajectory_data.keys()))\n",
    "data_no_wind.index_to_traj = traj_ids\n",
    "data_no_wind.trajectory_data = {i: data_no_wind.trajectory_data[traj_ids[i]] for i in range(len(traj_ids))}\n",
    "\n",
    "print(f\"Mapped {len(traj_ids)} trajectories to indices 0..{len(traj_ids)-1}\")\n",
    "print(\"Example index->traj id (first 10):\", list(enumerate(traj_ids))[:10])\n",
    "\n",
    "# ensure slider max matches available trajectories\n",
    "index_slider = ipywidgets.IntSlider(\n",
    "    value=min(3, data_no_wind.num_trajectories - 1),\n",
    "    min=0,\n",
    "    max=data_no_wind.num_trajectories - 1,\n",
    "    step=1,\n",
    "    description='Trajectory Index:',\n",
    "    continuous_update=False,\n",
    "    readout=True,\n",
    "    readout_format='d'\n",
    ")\n",
    "\n",
    "out = ipywidgets.Output()\n",
    "\n",
    "def plot_trajectory(index):\n",
    "    plt.figure(figsize=(10, 6))\n",
    "    plt.plot(np.rad2deg(data_no_wind.trajectory_data[index]['roll']), label='roll')\n",
    "    plt.plot(np.rad2deg(data_no_wind.trajectory_data[index]['pitch']), label='pitch')\n",
    "    plt.plot(np.rad2deg(data_no_wind.trajectory_data[index]['yaw']), label='yaw')\n",
    "    plt.xlabel('Time Step')\n",
    "    plt.ylabel('Angle (degrees)')\n",
    "    plt.title(f'Trajectory {index}')\n",
    "    plt.legend()\n",
    "    plt.grid(True)\n",
    "    plt.show()\n",
    "\n",
    "def _on_slider_change(change):\n",
    "    if change['name'] == 'value':\n",
    "        with out:\n",
    "            out.clear_output(wait=True)\n",
    "            plot_trajectory(change['new'])\n",
    "\n",
    "# attach observer and display\n",
    "index_slider.observe(_on_slider_change, names='value')\n",
    "display(index_slider, out)\n",
    "\n",
    "# draw initial plot\n",
    "with out:\n",
    "    plot_trajectory(index_slider.value)"
   ]
  },
  {
   "cell_type": "code",
   "execution_count": null,
   "id": "fdd789e1",
   "metadata": {},
   "outputs": [
    {
     "data": {
      "application/vnd.jupyter.widget-view+json": {
       "model_id": "b84559f89b2e4e3fa03f0a6f6f580476",
       "version_major": 2,
       "version_minor": 0
      },
      "text/plain": [
       "IntSlider(value=0, continuous_update=False, description='Trajectory Index:', max=37)"
      ]
     },
     "metadata": {},
     "output_type": "display_data"
    },
    {
     "data": {
      "application/vnd.jupyter.widget-view+json": {
       "model_id": "32925696b8d34ccea79fc6abe52371ba",
       "version_major": 2,
       "version_minor": 0
      },
      "text/plain": [
       "Output()"
      ]
     },
     "metadata": {},
     "output_type": "display_data"
    }
   ],
   "source": [
    "# slider to browse trajectories and update the a_x / a_y plots\n",
    "idx =0\n",
    "traj_slider = ipywidgets.IntSlider(\n",
    "    value=idx,\n",
    "    min=0,\n",
    "    max=data_no_wind.num_trajectories - 1,\n",
    "    step=1,\n",
    "    description='Trajectory Index:',\n",
    "    continuous_update=False,\n",
    "    readout=True,\n",
    "    readout_format='d'\n",
    ")\n",
    "\n",
    "def _update_plots(change):\n",
    "    i = change['new'] if isinstance(change, dict) else change\n",
    "    with out:\n",
    "        out.clear_output(wait=True)\n",
    "        fig, axes = plt.subplots(2, 1, figsize=(8, 8), sharex=True)\n",
    "        axes[0].plot(data_no_wind.trajectory_data[i]['ax'], label='ax measured')\n",
    "        axes[0].plot(data_no_wind.trajectory_data[i]['ax_nominal'], label='ax nominal')\n",
    "        axes[0].plot(data_no_wind.trajectory_data[i]['ax_NN'], label='ax NN zero wind')\n",
    "        axes[0].set_ylabel('a_x (m/s^2)')\n",
    "        axes[0].set_title(f'Trajectory {i} - a_x')\n",
    "        axes[0].legend()\n",
    "        axes[0].grid(True)\n",
    "\n",
    "        axes[1].plot(data_no_wind.trajectory_data[i]['ay'], label='ay measured')\n",
    "        axes[1].plot(data_no_wind.trajectory_data[i]['ay_nominal'], label='ay nominal')\n",
    "        axes[1].plot(data_no_wind.trajectory_data[i]['ay_NN'], label='ay NN zero wind')\n",
    "        axes[1].set_ylabel('a_y (m/s^2)')\n",
    "        axes[1].set_xlabel('Time Step')\n",
    "        axes[1].set_title(f'Trajectory {i} - a_y')\n",
    "        axes[1].legend()\n",
    "        axes[1].grid(True)\n",
    "\n",
    "        plt.tight_layout()\n",
    "        plt.show()\n",
    "\n",
    "# hook up observer and display\n",
    "traj_slider.observe(_update_plots, names='value')\n",
    "display(traj_slider, out)\n",
    "\n",
    "# draw initial plot\n",
    "_update_plots({'new': traj_slider.value})"
   ]
  },
  {
   "cell_type": "code",
   "execution_count": 6,
   "id": "ec05ee9d",
   "metadata": {},
   "outputs": [
    {
     "data": {
      "application/vnd.jupyter.widget-view+json": {
       "model_id": "08ac21ae953840abaf98d0beb0813335",
       "version_major": 2,
       "version_minor": 0
      },
      "text/plain": [
       "Dropdown(description='Dataset:', options=('No wind', 'With wind'), value='No wind')"
      ]
     },
     "metadata": {},
     "output_type": "display_data"
    },
    {
     "data": {
      "application/vnd.jupyter.widget-view+json": {
       "model_id": "90c56154cfe34771915df8e568f17506",
       "version_major": 2,
       "version_minor": 0
      },
      "text/plain": [
       "IntSlider(value=0, continuous_update=False, description='Trajectory:', max=37)"
      ]
     },
     "metadata": {},
     "output_type": "display_data"
    },
    {
     "data": {
      "application/vnd.jupyter.widget-view+json": {
       "model_id": "e341b7e0428b4e8e8afec1cd5683a8a5",
       "version_major": 2,
       "version_minor": 0
      },
      "text/plain": [
       "Output()"
      ]
     },
     "metadata": {},
     "output_type": "display_data"
    }
   ],
   "source": [
    "# Plot absolute errors for nominal vs NN models (ax and ay) with widgets to pick dataset & trajectory\n",
    "dataset_map = {'No wind': data_no_wind, 'With wind': data_wind}\n",
    "\n",
    "dataset_dropdown = ipywidgets.Dropdown(\n",
    "    options=list(dataset_map.keys()),\n",
    "    value='No wind',\n",
    "    description='Dataset:'\n",
    ")\n",
    "\n",
    "traj_idx_slider_err = ipywidgets.IntSlider(\n",
    "    value=0,\n",
    "    min=0,\n",
    "    max=dataset_map[dataset_dropdown.value].num_trajectories - 1,\n",
    "    step=1,\n",
    "    description='Trajectory:',\n",
    "    continuous_update=False,\n",
    "    readout=True,\n",
    "    readout_format='d'\n",
    ")\n",
    "\n",
    "out_err = ipywidgets.Output()\n",
    "\n",
    "def plot_abs_errors(dataset, idx):\n",
    "    d = dataset.trajectory_data[idx]\n",
    "    ax = np.array(d['ax'])\n",
    "    ay = np.array(d['ay'])\n",
    "    ax_nom = np.array(d['ax_nominal'])\n",
    "    ay_nom = np.array(d['ay_nominal'])\n",
    "    ax_nn = np.array(d['ax_NN'])\n",
    "    ay_nn = np.array(d['ay_NN'])\n",
    "\n",
    "    err_nom_ax = np.abs(ax - ax_nom)\n",
    "    err_nn_ax = np.abs(ax - ax_nn)\n",
    "    err_nom_ay = np.abs(ay - ay_nom)\n",
    "    err_nn_ay = np.abs(ay - ay_nn)\n",
    "\n",
    "    fig, axes = plt.subplots(2, 1, figsize=(10, 7), sharex=True)\n",
    "    axes[0].plot(err_nom_ax, label='|ax - ax_nominal|', alpha=0.8)\n",
    "    axes[0].plot(err_nn_ax, label='|ax - ax_NN|', alpha=0.8)\n",
    "    axes[0].set_ylabel('Absolute error (m/s^2)')\n",
    "    axes[0].set_title(f'Trajectory {idx} - a_x absolute errors')\n",
    "    axes[0].legend()\n",
    "    axes[0].grid(True)\n",
    "\n",
    "    axes[1].plot(err_nom_ay, label='|ay - ay_nominal|', alpha=0.8)\n",
    "    axes[1].plot(err_nn_ay, label='|ay - ay_NN|', alpha=0.8)\n",
    "    axes[1].set_ylabel('Absolute error (m/s^2)')\n",
    "    axes[1].set_xlabel('Time step')\n",
    "    axes[1].set_title(f'Trajectory {idx} - a_y absolute errors')\n",
    "    axes[1].legend()\n",
    "    axes[1].grid(True)\n",
    "\n",
    "    plt.tight_layout()\n",
    "    plt.show()\n",
    "\n",
    "def _on_dataset_change(change):\n",
    "    if change['name'] == 'value':\n",
    "        ds = dataset_map[change['new']]\n",
    "        traj_idx_slider_err.max = max(0, ds.num_trajectories - 1)\n",
    "        traj_idx_slider_err.value = 0  # reset to first trajectory\n",
    "        with out_err:\n",
    "            out_err.clear_output(wait=True)\n",
    "            plot_abs_errors(ds, 0)\n",
    "\n",
    "def _on_traj_change(change):\n",
    "    if change['name'] == 'value':\n",
    "        ds = dataset_map[dataset_dropdown.value]\n",
    "        with out_err:\n",
    "            out_err.clear_output(wait=True)\n",
    "            plot_abs_errors(ds, change['new'])\n",
    "\n",
    "dataset_dropdown.observe(_on_dataset_change, names='value')\n",
    "traj_idx_slider_err.observe(_on_traj_change, names='value')\n",
    "\n",
    "display(dataset_dropdown, traj_idx_slider_err, out_err)\n",
    "\n",
    "# initial plot\n",
    "with out_err:\n",
    "    out_err.clear_output(wait=True)\n",
    "    plot_abs_errors(dataset_map[dataset_dropdown.value], traj_idx_slider_err.value)\n"
   ]
  },
  {
   "cell_type": "code",
   "execution_count": 7,
   "id": "7d86427f",
   "metadata": {},
   "outputs": [
    {
     "name": "stdout",
     "output_type": "stream",
     "text": [
      "No wind: N=38\n",
      "  ax: nominal mean abs=0.3668 ± 0.1182, NN mean abs=0.1500 ± 0.0461\n",
      "  ay: nominal mean abs=0.1696 ± 0.0744, NN mean abs=0.1160 ± 0.0450\n",
      "\n",
      "With wind: N=34\n",
      "  ax: nominal mean abs=0.3915 ± 0.1006, NN mean abs=0.1711 ± 0.0455\n",
      "  ay: nominal mean abs=0.2095 ± 0.0932, NN mean abs=0.1641 ± 0.0464\n",
      "\n"
     ]
    },
    {
     "data": {
      "image/png": "[encoded data removed]",
      "text/plain": [
       "<Figure size 1200x500 with 2 Axes>"
      ]
     },
     "metadata": {},
     "output_type": "display_data"
    }
   ],
   "source": [
    "# compute mean absolute error per trajectory then average across trajectories for each dataset\n",
    "datasets = {'No wind': data_no_wind, 'With wind': data_wind}\n",
    "results = {}\n",
    "\n",
    "for name, ds in datasets.items():\n",
    "    ax_nom_means, ax_nn_means = [], []\n",
    "    ay_nom_means, ay_nn_means = [], []\n",
    "    for i in range(ds.num_trajectories):\n",
    "        d = ds.trajectory_data[i]\n",
    "        ax = np.array(d['ax'])\n",
    "        ax_nom = np.array(d['ax_nominal'])\n",
    "        ax_nn = np.array(d['ax_NN'])\n",
    "        ay = np.array(d['ay'])\n",
    "        ay_nom = np.array(d['ay_nominal'])\n",
    "        ay_nn = np.array(d['ay_NN'])\n",
    "\n",
    "        # mean abs error for this trajectory\n",
    "        ax_nom_means.append(np.mean(np.abs(ax - ax_nom)))\n",
    "        ax_nn_means.append(np.mean(np.abs(ax - ax_nn)))\n",
    "        ay_nom_means.append(np.mean(np.abs(ay - ay_nom)))\n",
    "        ay_nn_means.append(np.mean(np.abs(ay - ay_nn)))\n",
    "\n",
    "    results[name] = {\n",
    "        'ax_nom_mean_abs': float(np.mean(ax_nom_means)),\n",
    "        'ax_nom_std': float(np.std(ax_nom_means)),\n",
    "        'ax_nn_mean_abs': float(np.mean(ax_nn_means)),\n",
    "        'ax_nn_std': float(np.std(ax_nn_means)),\n",
    "        'ay_nom_mean_abs': float(np.mean(ay_nom_means)),\n",
    "        'ay_nom_std': float(np.std(ay_nom_means)),\n",
    "        'ay_nn_mean_abs': float(np.mean(ay_nn_means)),\n",
    "        'ay_nn_std': float(np.std(ay_nn_means)),\n",
    "        'num_profiles': ds.num_trajectories\n",
    "    }\n",
    "\n",
    "# optionally update the previously used summary variables\n",
    "stats_no_wind = results['No wind']\n",
    "stats_wind = results['With wind']\n",
    "\n",
    "# print concise summary\n",
    "for name, vals in results.items():\n",
    "    print(f\"{name}: N={vals['num_profiles']}\")\n",
    "    print(f\"  ax: nominal mean abs={vals['ax_nom_mean_abs']:.4f} ± {vals['ax_nom_std']:.4f}, \"\n",
    "          f\"NN mean abs={vals['ax_nn_mean_abs']:.4f} ± {vals['ax_nn_std']:.4f}\")\n",
    "    print(f\"  ay: nominal mean abs={vals['ay_nom_mean_abs']:.4f} ± {vals['ay_nom_std']:.4f}, \"\n",
    "          f\"NN mean abs={vals['ay_nn_mean_abs']:.4f} ± {vals['ay_nn_std']:.4f}\")\n",
    "    print()\n",
    "\n",
    "# bar plot comparison (ax and ay)\n",
    "labels = list(results.keys())\n",
    "ax_nom_vals = [results[k]['ax_nom_mean_abs'] for k in labels]\n",
    "ax_nn_vals  = [results[k]['ax_nn_mean_abs']  for k in labels]\n",
    "ay_nom_vals = [results[k]['ay_nom_mean_abs'] for k in labels]\n",
    "ay_nn_vals  = [results[k]['ay_nn_mean_abs']  for k in labels]\n",
    "\n",
    "ax_nom_err = [results[k]['ax_nom_std'] for k in labels]\n",
    "ax_nn_err  = [results[k]['ax_nn_std']  for k in labels]\n",
    "ay_nom_err = [results[k]['ay_nom_std'] for k in labels]\n",
    "ay_nn_err  = [results[k]['ay_nn_std']  for k in labels]\n",
    "\n",
    "x = np.arange(len(labels))\n",
    "width = 0.35\n",
    "\n",
    "fig, axes = plt.subplots(1, 2, figsize=(12, 5))\n",
    "axes[0].bar(x - width/2, ax_nom_vals, width, yerr=ax_nom_err, label='nominal', alpha=0.8)\n",
    "axes[0].bar(x + width/2, ax_nn_vals,  width, yerr=ax_nn_err,  label='NN',      alpha=0.8)\n",
    "axes[0].set_xticks(x)\n",
    "axes[0].set_xticklabels(labels)\n",
    "axes[0].set_ylabel('Mean absolute error (m/s^2)')\n",
    "axes[0].set_title('a_x mean absolute error across trajectories')\n",
    "axes[0].legend()\n",
    "axes[0].grid(True, axis='y')\n",
    "\n",
    "axes[1].bar(x - width/2, ay_nom_vals, width, yerr=ay_nom_err, label='nominal', alpha=0.8)\n",
    "axes[1].bar(x + width/2, ay_nn_vals,  width, yerr=ay_nn_err,  label='NN',      alpha=0.8)\n",
    "axes[1].set_xticks(x)\n",
    "axes[1].set_xticklabels(labels)\n",
    "axes[1].set_ylabel('Mean absolute error (m/s^2)')\n",
    "axes[1].set_title('a_y mean absolute error across trajectories')\n",
    "axes[1].legend()\n",
    "axes[1].grid(True, axis='y')\n",
    "\n",
    "plt.tight_layout()\n",
    "plt.show()\n"
   ]
  },
  {
   "cell_type": "code",
   "execution_count": 8,
   "id": "718697f6",
   "metadata": {},
   "outputs": [
    {
     "data": {
      "application/vnd.jupyter.widget-view+json": {
       "model_id": "6ae3e634acde46bca5ed16d0c689d260",
       "version_major": 2,
       "version_minor": 0
      },
      "text/plain": [
       "IntSlider(value=0, continuous_update=False, description='Trajectory Index:', max=37)"
      ]
     },
     "metadata": {},
     "output_type": "display_data"
    },
    {
     "data": {
      "application/vnd.jupyter.widget-view+json": {
       "model_id": "32925696b8d34ccea79fc6abe52371ba",
       "version_major": 2,
       "version_minor": 0
      },
      "text/plain": [
       "Output()"
      ]
     },
     "metadata": {},
     "output_type": "display_data"
    }
   ],
   "source": [
    "## Code for Rolling out the trajectory using the nominal model and the NN model\n",
    "# slider to browse trajectories and update the a_x / a_y plots\n",
    "idx =0\n",
    "traj_slider = ipywidgets.IntSlider(\n",
    "    value=idx,\n",
    "    min=0,\n",
    "    max=data_no_wind.num_trajectories - 1,\n",
    "    step=1,\n",
    "    description='Trajectory Index:',\n",
    "    continuous_update=False,\n",
    "    readout=True,\n",
    "    readout_format='d'\n",
    ")\n",
    "\n",
    "def _update_plots(change):\n",
    "    i = change['new'] if isinstance(change, dict) else change\n",
    "    with out:\n",
    "        out.clear_output(wait=True)\n",
    "        fig, axes = plt.subplots(2, 1, figsize=(8, 8), sharex=True)\n",
    "        axes[0].plot(data_no_wind.trajectory_data[i]['px'], label='px measured')\n",
    "        axes[0].plot(data_no_wind.trajectory_data[i]['px_rollout_nominal'], label='px nominal')\n",
    "        axes[0].plot(data_no_wind.trajectory_data[i]['px_rollout_NN'], label='px NN zero wind')\n",
    "        axes[0].set_ylabel('p_x (m)')\n",
    "        axes[0].set_title(f'Trajectory {i} - p_x')\n",
    "        axes[0].legend()\n",
    "\n",
    "        axes[1].plot(data_no_wind.trajectory_data[i]['py'], label='py measured')\n",
    "        axes[1].plot(data_no_wind.trajectory_data[i]['py_rollout_nominal'], label='py nominal')\n",
    "        axes[1].plot(data_no_wind.trajectory_data[i]['py_rollout_NN'], label='py NN zero wind')\n",
    "        axes[1].set_ylabel('p_y (m)')\n",
    "        axes[1].set_xlabel('Time Step')\n",
    "        axes[1].set_title(f'Trajectory {i} - p_y')\n",
    "        axes[1].legend()\n",
    "\n",
    "        plt.tight_layout()\n",
    "        plt.show()\n",
    "\n",
    "# hook up observer and display\n",
    "traj_slider.observe(_update_plots, names='value')\n",
    "display(traj_slider, out)\n",
    "\n",
    "# draw initial plot\n",
    "_update_plots({'new': traj_slider.value})"
   ]
  },
  {
   "cell_type": "code",
   "execution_count": 9,
   "id": "2be58d23",
   "metadata": {},
   "outputs": [
    {
     "data": {
      "application/vnd.jupyter.widget-view+json": {
       "model_id": "754a9cb61bbd460d82046fb6e39efdb7",
       "version_major": 2,
       "version_minor": 0
      },
      "text/plain": [
       "IntSlider(value=0, continuous_update=False, description='Trajectory Index:', max=37)"
      ]
     },
     "metadata": {},
     "output_type": "display_data"
    },
    {
     "data": {
      "application/vnd.jupyter.widget-view+json": {
       "model_id": "32925696b8d34ccea79fc6abe52371ba",
       "version_major": 2,
       "version_minor": 0
      },
      "text/plain": [
       "Output()"
      ]
     },
     "metadata": {},
     "output_type": "display_data"
    }
   ],
   "source": [
    "## Code for Rolling out the trajectory using the nominal model and the NN model\n",
    "# slider to browse trajectories and update the a_x / a_y plots\n",
    "idx =0\n",
    "traj_slider = ipywidgets.IntSlider(\n",
    "    value=idx,\n",
    "    min=0,\n",
    "    max=data_no_wind.num_trajectories - 1,\n",
    "    step=1,\n",
    "    description='Trajectory Index:',\n",
    "    continuous_update=False,\n",
    "    readout=True,\n",
    "    readout_format='d'\n",
    ")\n",
    "\n",
    "def _update_plots(change):\n",
    "    i = change['new'] if isinstance(change, dict) else change\n",
    "    with out:\n",
    "        out.clear_output(wait=True)\n",
    "        fig, axes = plt.subplots(2, 1, figsize=(8, 8), sharex=True)\n",
    "        axes[0].plot(data_no_wind.trajectory_data[i]['vx'], label='vx measured')\n",
    "        axes[0].plot(data_no_wind.trajectory_data[i]['vx_rollout_nominal'], label='vx nominal')\n",
    "        axes[0].plot(data_no_wind.trajectory_data[i]['vx_rollout_NN'], label='vx NN zero wind')\n",
    "        axes[0].set_ylabel('v_x (m/s)')\n",
    "        axes[0].set_title(f'Trajectory {i} - v_x')\n",
    "        axes[0].legend()\n",
    "\n",
    "        axes[1].plot(data_no_wind.trajectory_data[i]['vy'], label='vy measured')\n",
    "        axes[1].plot(data_no_wind.trajectory_data[i]['vy_rollout_nominal'], label='vy nominal')\n",
    "        axes[1].plot(data_no_wind.trajectory_data[i]['vy_rollout_NN'], label='vy NN zero wind')\n",
    "        axes[1].set_ylabel('v_y (m/s)')\n",
    "        axes[1].set_xlabel('Time Step')\n",
    "        axes[1].set_title(f'Trajectory {i} - v_y')\n",
    "        axes[1].legend()\n",
    "\n",
    "        plt.tight_layout()\n",
    "        plt.show()\n",
    "\n",
    "# hook up observer and display\n",
    "traj_slider.observe(_update_plots, names='value')\n",
    "display(traj_slider, out)\n",
    "\n",
    "# draw initial plot\n",
    "_update_plots({'new': traj_slider.value})"
   ]
  }
 ],
 "metadata": {
  "kernelspec": {
   "display_name": "rotorpy_env",
   "language": "python",
   "name": "python3"
  },
  "language_info": {
   "codemirror_mode": {
    "name": "ipython",
    "version": 3
   },
   "file_extension": ".py",
   "mimetype": "text/x-python",
   "name": "python",
   "nbconvert_exporter": "python",
   "pygments_lexer": "ipython3",
   "version": "3.13.7"
  }
 },
 "nbformat": 4,
 "nbformat_minor": 5
}
